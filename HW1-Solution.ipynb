{
 "cells": [
  {
   "metadata": {},
   "cell_type": "markdown",
   "source": [
    "HW1 - Deep Learning\n",
    "\n",
    "Requirements"
   ],
   "id": "1b473411e3ca1167"
  },
  {
   "metadata": {},
   "cell_type": "code",
   "outputs": [],
   "execution_count": null,
   "source": "!pip3 install numpy",
   "id": "23da53e1ae99c7c"
  },
  {
   "metadata": {
    "ExecuteTime": {
     "end_time": "2024-12-09T13:55:42.624150Z",
     "start_time": "2024-12-09T13:55:42.603458Z"
    }
   },
   "cell_type": "code",
   "source": "import numpy as np",
   "id": "7de7190b62fea58c",
   "outputs": [],
   "execution_count": 5
  },
  {
   "metadata": {
    "ExecuteTime": {
     "end_time": "2024-12-09T13:57:19.333399Z",
     "start_time": "2024-12-09T13:57:19.324922Z"
    }
   },
   "cell_type": "code",
   "source": [
    "def load_data():\n",
    "    pass"
   ],
   "id": "b41d90972b795a7e",
   "outputs": [],
   "execution_count": 8
  },
  {
   "metadata": {},
   "cell_type": "code",
   "outputs": [],
   "execution_count": null,
   "source": [
    "def gradient_test():\n",
    "    pass"
   ],
   "id": "e338e7d7e9426285"
  },
  {
   "metadata": {},
   "cell_type": "code",
   "outputs": [],
   "execution_count": null,
   "source": [
    "def soft_max_regression():\n",
    "    pass"
   ],
   "id": "ea9192133df0271f"
  },
  {
   "metadata": {},
   "cell_type": "code",
   "outputs": [],
   "execution_count": null,
   "source": [
    "def soft_max_gradient():\n",
    "    pass"
   ],
   "id": "857f4a118445b654"
  },
  {
   "metadata": {},
   "cell_type": "code",
   "outputs": [],
   "execution_count": null,
   "source": [
    "def sgd():\n",
    "    pass"
   ],
   "id": "aa4f8c5c066e1e3d"
  },
  {
   "metadata": {},
   "cell_type": "code",
   "outputs": [],
   "execution_count": null,
   "source": [
    "def sgd_with_momentum():\n",
    "    pass"
   ],
   "id": "efc830f4a5452ee0"
  },
  {
   "metadata": {},
   "cell_type": "code",
   "outputs": [],
   "execution_count": null,
   "source": [
    "''' BONUS PART '''\n",
    "def rms_prop():\n",
    "    pass"
   ],
   "id": "f167ec3d8e2faaa3"
  }
 ],
 "metadata": {
  "kernelspec": {
   "display_name": "Python 3",
   "language": "python",
   "name": "python3"
  },
  "language_info": {
   "codemirror_mode": {
    "name": "ipython",
    "version": 2
   },
   "file_extension": ".py",
   "mimetype": "text/x-python",
   "name": "python",
   "nbconvert_exporter": "python",
   "pygments_lexer": "ipython2",
   "version": "2.7.6"
  }
 },
 "nbformat": 4,
 "nbformat_minor": 5
}
