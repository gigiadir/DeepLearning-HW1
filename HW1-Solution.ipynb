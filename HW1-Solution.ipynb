{
 "cells": [
  {
   "metadata": {},
   "cell_type": "markdown",
   "source": [
    "HW1 - Deep Learning\n",
    "\n",
    "Requirements"
   ],
   "id": "1b473411e3ca1167"
  },
  {
   "metadata": {},
   "cell_type": "code",
   "outputs": [],
   "execution_count": null,
   "source": [
    "import numpy as np\n",
    "!pip3 install numpy scipy"
   ],
   "id": "e670dd5082b9aec9"
  },
  {
   "metadata": {
    "ExecuteTime": {
     "end_time": "2024-12-09T14:46:55.108848Z",
     "start_time": "2024-12-09T14:46:55.086484Z"
    }
   },
   "cell_type": "code",
   "source": [
    "import scipy.io\n",
    "import os\n",
    "\n",
    "def load_dataset(dataset_name):\n",
    "    data_path = os.path.join(\"./Data\", f\"{dataset_name}.mat\")\n",
    "    mat_data = scipy.io.loadmat(data_path)\n",
    "\n",
    "    datasets = {\n",
    "        'X_train': mat_data[\"Yt\"],\n",
    "        'C_train': mat_data[\"Ct\"],\n",
    "        'X_validation': mat_data[\"Yv\"],\n",
    "        'C_validation': mat_data[\"Cv\"]\n",
    "    }\n",
    "    return datasets\n",
    "\n",
    "gmm_dataset = load_dataset(\"GMMData\")\n",
    "peaks_dataset = load_dataset(\"PeaksData\")\n",
    "swiss_roll_dataset = load_dataset(\"SwissRollData\")"
   ],
   "id": "b41d90972b795a7e",
   "outputs": [],
   "execution_count": 7
  },
  {
   "metadata": {},
   "cell_type": "code",
   "outputs": [],
   "execution_count": null,
   "source": [
    "def soft_max_regression(x: np.ndarray):\n",
    "    z = x - max(x)\n",
    "    soft_max = np.exp(z) / np.sum(np.exp(z))\n",
    "\n",
    "    return soft_max"
   ],
   "id": "ea9192133df0271f"
  },
  {
   "metadata": {},
   "cell_type": "code",
   "outputs": [],
   "execution_count": null,
   "source": [
    "def soft_max_gradient():\n",
    "    pass"
   ],
   "id": "857f4a118445b654"
  },
  {
   "metadata": {},
   "cell_type": "code",
   "outputs": [],
   "execution_count": null,
   "source": [
    "def gradient_test():\n",
    "    pass"
   ],
   "id": "e338e7d7e9426285"
  },
  {
   "metadata": {},
   "cell_type": "code",
   "outputs": [],
   "execution_count": null,
   "source": [
    "def sgd():\n",
    "    pass"
   ],
   "id": "aa4f8c5c066e1e3d"
  },
  {
   "metadata": {},
   "cell_type": "code",
   "outputs": [],
   "execution_count": null,
   "source": [
    "def sgd_with_momentum():\n",
    "    pass"
   ],
   "id": "efc830f4a5452ee0"
  },
  {
   "metadata": {},
   "cell_type": "code",
   "outputs": [],
   "execution_count": null,
   "source": [
    "''' BONUS PART '''\n",
    "\n",
    "\n",
    "def rms_prop():\n",
    "    pass"
   ],
   "id": "f167ec3d8e2faaa3"
  }
 ],
 "metadata": {
  "kernelspec": {
   "display_name": "Python 3",
   "language": "python",
   "name": "python3"
  },
  "language_info": {
   "codemirror_mode": {
    "name": "ipython",
    "version": 2
   },
   "file_extension": ".py",
   "mimetype": "text/x-python",
   "name": "python",
   "nbconvert_exporter": "python",
   "pygments_lexer": "ipython2",
   "version": "2.7.6"
  }
 },
 "nbformat": 4,
 "nbformat_minor": 5
}
